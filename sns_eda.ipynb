{
 "cells": [
  {
   "cell_type": "code",
   "execution_count": null,
   "metadata": {},
   "outputs": [],
   "source": [
    "import pandas as pd\n",
    "import matplotlib.pyplot as plt\n",
    "import numpy as np\n",
    "import seaborn as sns\n",
    "disp=pd.options.display\n",
    "disp.max_rows=100\n",
    "disp.max_columns=100"
   ]
  },
  {
   "cell_type": "code",
   "execution_count": null,
   "metadata": {
    "scrolled": true
   },
   "outputs": [],
   "source": [
    "#df=pd.read_csv('C:\\\\Users\\\\hp\\\\Desktop\\\\Python\\\\Kaggle\\\\Housing Prices Prediction\\\\train.csv')\n",
    "#column_summary(df, 'SalePrice')"
   ]
  },
  {
   "cell_type": "markdown",
   "metadata": {},
   "source": [
    "## Categorical Variable"
   ]
  },
  {
   "cell_type": "code",
   "execution_count": null,
   "metadata": {},
   "outputs": [],
   "source": [
    "def categorical_plots(df, ind_var, d_var):\n",
    "    #x='LotShape'\n",
    "    #y='SalePrice'\n",
    "    df_bar=df.groupby(by=[ind_var], dropna=False, sort=False).size()\n",
    "    #using a subplots method\n",
    "    labels=list(df_bar.index)\n",
    "    records=list(list(df_bar))\n",
    "\n",
    "    x = np.arange(len(labels))/2\n",
    "    width = 0.4 #width of bars\n",
    "\n",
    "    fig, ax = plt.subplots(2,2, figsize=(15,10))\n",
    "\n",
    "    ##Plot 1, Bar Graph\n",
    "    sns.set_theme(style=\"whitegrid\")\n",
    "    sns.set(rc={'figure.figsize':(7,5)})\n",
    "    bar1 = sns.barplot(x=labels, y=records, ax=ax[0][0])\n",
    "\n",
    "    #add some text in the chart\n",
    "    bar1.set_ylabel('Number of records')\n",
    "    bar1.set_xlabel(ind_var)\n",
    "    #bar1.set_xticklabels(labels)\n",
    "\n",
    "    def autolabel(bar_plot):\n",
    "        #Attach a text label above each bar, data labels\n",
    "        for bar in bar_plot.patches:\n",
    "            height = bar.get_height()\n",
    "            bar1.annotate('{}'.format(height),\n",
    "                        xy=(bar.get_x()+bar.get_width()/2, height),\n",
    "                        xytext=(0,2),\n",
    "                        textcoords='offset points',\n",
    "                        ha='center', va='bottom')\n",
    "    autolabel(bar1)\n",
    "\n",
    "    ##Plot 2, Box Plot\n",
    "    box = sns.boxplot(x=ind_var, y=d_var, data=df, ax=ax[0][1])\n",
    "\n",
    "    ##Plot 3, Pair Plot\n",
    "    pair = sns.stripplot(x=ind_var, y=d_var, data=df, ax=ax[1][0])\n",
    "\n",
    "    ##Plot 4, Violin Plot\n",
    "    pair = sns.violinplot(x=ind_var, y=d_var, data=df, ax=ax[1][1])\n",
    "\n",
    "    fig.tight_layout()\n",
    "    plt.show()   "
   ]
  },
  {
   "cell_type": "markdown",
   "metadata": {},
   "source": [
    "## Numerical Variables"
   ]
  },
  {
   "cell_type": "code",
   "execution_count": null,
   "metadata": {},
   "outputs": [],
   "source": [
    "def numerical_plots(df, ind_var, d_var):\n",
    "    fig, ax = plt.subplots(1,2, figsize=(12,5))\n",
    "    hist = sns.histplot(data=df, x=ind_var, kde=True, ax=ax[0])\n",
    "    sca = sns.scatterplot(x=ind_var, y=d_var, data=df, ax=ax[1])\n",
    "    plt.show()"
   ]
  },
  {
   "cell_type": "markdown",
   "metadata": {},
   "source": [
    "## Combine and run for a dataframe"
   ]
  },
  {
   "cell_type": "code",
   "execution_count": null,
   "metadata": {},
   "outputs": [],
   "source": [
    "def column_summary(df, dvar):\n",
    "    import os\n",
    "    os.chdir('C:\\\\Users\\\\hp\\\\Desktop\\\\Python\\\\Kaggle')\n",
    "    import EDA_module as EDA\n",
    "    df_summary=EDA.EDA_summary(df)\n",
    "    #dvar='SalePrice'\n",
    "    for col in list(df.columns):\n",
    "        col1='\\033[1m' + '\\033[4m' + col + '\\033[0m'\n",
    "        print(col1.center(100) , end ='\\n    ') \n",
    "        l=len(df[col].unique())\n",
    "        print('Number of Unique Values', l)\n",
    "        ind = df_summary[df_summary['Column Name']==col].index.values[0]\n",
    "        dtype = df_summary.at[ind, 'Data Type']\n",
    "        print('Datatype of column:' ,dtype)\n",
    "        print('Null Percentage: ', df_summary.at[ind, 'Null Percentage'])\n",
    "        print('Number of Non-null values', df_summary.at[ind, 'Non-null Count'])\n",
    "        print('Values like ', df_summary.at[ind, 'Examples'])\n",
    "\n",
    "        if dtype in ['object'] and l<=30:\n",
    "            categorical_plots(df, col, dvar)\n",
    "        if dtype in ['int64', 'float64'] and l<=30:\n",
    "            categorical_plots(df, col, dvar)\n",
    "        if dtype in ['int64', 'float64'] and l>30:\n",
    "            numerical_plots(df, col, dvar)\n",
    "\n",
    "        print('\\n \\n \\n')"
   ]
  },
  {
   "cell_type": "code",
   "execution_count": null,
   "metadata": {},
   "outputs": [],
   "source": []
  }
 ],
 "metadata": {
  "kernelspec": {
   "display_name": "Python 3",
   "language": "python",
   "name": "python3"
  },
  "language_info": {
   "codemirror_mode": {
    "name": "ipython",
    "version": 3
   },
   "file_extension": ".py",
   "mimetype": "text/x-python",
   "name": "python",
   "nbconvert_exporter": "python",
   "pygments_lexer": "ipython3",
   "version": "3.7.6"
  }
 },
 "nbformat": 4,
 "nbformat_minor": 4
}
